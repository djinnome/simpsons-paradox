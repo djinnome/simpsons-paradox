{
 "cells": [
  {
   "cell_type": "markdown",
   "metadata": {},
   "source": [
    "# Simpsons Reversal\n",
    "\n",
    "$$\n",
    "\\newcommand{P}[1]{\\mathrm{P}\\left( #1 \\right)}\n",
    "\\newcommand{Pc}[2]{\\mathrm{P}\\left( #1 \\mid #2 \\right)}\n",
    "$$\n",
    "\n",
    "[Simpson' Paradox](https://en.wikipedia.org/wiki/Simpson%27s_paradox) is a example of one of the counter intuitive properties of probability distributions. It occurs when an observed relationship between two variables is reversed when you take into account another variable. \n",
    "\n",
    "The paradox itself has been [described](http://michaelnielsen.org/reinventing_explanation/) [very](http://vudlab.com/simpsons/) [well](http://ftp.cs.ucla.edu/pub/stat_ser/r414.pdf) [elsewhere](http://andrewgelman.com/2014/04/08/understanding-simpsons-paradox-using-graph/), so I'm not going to describe it in too much detail here. Instead I'm going to try and answer another question: how do we write a program to generate examples of Simpson's paradox?\n",
    "\n",
    "Let's start with an example of the paradox:\n",
    "\n",
    "Imagine we are trying to work out whether a certain drug is an effective treatment for a disease. To decide whether it is effective, we compare people who took the drug (call this $x$, if someone took the drug, $x=1$, if not $x=0$), by examining how many of each recovered from the disease (call this $y$ - $y=1$ mean they got better, $y=0$ mean they did not). \n",
    "\n",
    "When we just look at these two numbers, we find that of 250 people who took the drug, 110 recovered (44%), whereas out of the 250 people who did not take the drug 177 recovered (71%). From these results it looks like there is a clear advantage to not taking the drug. Unfortunately, this drug was not administered as part of a [random controlled trial](https://en.wikipedia.org/wiki/Randomized_controlled_trial). This means that the decision of whether or not to take the drug may have been [confounded](https://en.wikipedia.org/wiki/Confounding).\n",
    "\n",
    "In fact, if we look at the recovery rate for different age groups (denoted by variable $z$), we find that for each age group more of those who took the drug recovered than those who did not, as shown in the table below"
   ]
  },
  {
   "cell_type": "code",
   "execution_count": 3,
   "metadata": {},
   "outputs": [
    {
     "data": {
      "text/html": [
       "<table ><tr ><th >Age</th><th colspan='2'>Placebo</th><th colspan='2'>Drug</th></tr><tr ><td >0</td><td >1/22</td><td >0.05</td><td ><b >18/109</b></td><td ><b >0.17</b></td></tr><tr ><td >1</td><td >1/5</td><td >0.20</td><td ><b >13/36</b></td><td ><b >0.36</b></td></tr><tr ><td >2</td><td >2/4</td><td >0.50</td><td ><b >3/5</b></td><td ><b >0.60</b></td></tr><tr ><td >3</td><td >61/91</td><td >0.67</td><td ><b >51/72</b></td><td ><b >0.71</b></td></tr><tr ><td >4</td><td >112/128</td><td >0.88</td><td ><b >25/28</b></td><td ><b >0.89</b></td></tr><tr ><td >total:</td><td ><b >177/250</b></td><td ><b >0.71</b></td><td >110/250</td><td >0.44</td></tr></table>"
      ],
      "text/plain": [
       "<IPython.core.display.HTML object>"
      ]
     },
     "execution_count": 3,
     "metadata": {},
     "output_type": "execute_result"
    }
   ],
   "source": [
    "import numpy as np\n",
    "import pandas as pd\n",
    "import matplotlib.pyplot as plt\n",
    "import seaborn as sns\n",
    "\n",
    "%matplotlib inline\n",
    "\n",
    "import utils as u\n",
    "from IPython.core.display import HTML\n",
    "\n",
    "HTML(u.create_table(pd.read_csv(\"binary_example.csv\"), confounder=\"Age\", intervention_level=[\"Placebo\", \"Drug\"]))"
   ]
  },
  {
   "cell_type": "markdown",
   "metadata": {},
   "source": [
    "When we look at different age groups, our conclusion about the drug effectiveness is reversed. \n",
    "\n",
    "What's worse, is that it is possible that if we take into account another variable the correlation might be reversed again. This is why random controlled trials are so important for separating correlation and causation. \n",
    "\n",
    "How can we generate examples of the paradox? let's start by defining it precisely."
   ]
  },
  {
   "cell_type": "markdown",
   "metadata": {},
   "source": [
    "## Binary Case\n",
    "\n",
    "Consider the situation where we have three random variables, two binary: $x$, $y$ and one discrete, $z$. Simpson's paradox is observed if when considering just the $x$ and $y$ variables, there appears to be a negative correlation between $x=1$ and $y = 1$. \n",
    "\n",
    "Specifically\n",
    "\n",
    "$\\Pc{Y=1}{X=1} < \\Pc{Y=1}{X=0}$\n",
    "\n",
    "but when we look at each subgroup, the relationship is the other way round:\n",
    "\n",
    "$\\Pc{Y=1}{X=1, Z=i} > \\Pc{Y=1}{X=0, Z=i}$\n",
    "\n",
    "For all $i$. \n",
    "\n",
    "To find a distribution which obeys these inequalities, let's start by parameterising it by:\n",
    "\n",
    "$\\Pc{Y=1}{X, Z} = p_{X,Z}$\n",
    "\n",
    "And \n",
    "\n",
    "$\\Pc{Z}{X} = q_{X,Z}$\n",
    "\n",
    "The marginal distribution can be written as\n",
    "\n",
    "$\\Pc{Y=1}{X=j} = \\sum_{i\\in Z} \\Pc{Y=1}{X=j, Z=i} \\Pc{Z=i}{X=j} = \\sum_{i\\in Z} p_{j,i}q_{j,i}$\n",
    "\n",
    "So we are looking for $p$ and $q$ which obey\n",
    "\n",
    "$p_{1,i} > p_{0,i}$\n",
    "\n",
    "$\\sum_{i\\in Z} p_{1,i}q_{1,i} < \\sum_{i\\in Z} p_{0,i}q_{0,i}$\n",
    "\n",
    "$\\sum_{i\\in Z} q_{j,i} = 1$\n",
    "\n",
    "I will also choose the labels so that:\n",
    "\n",
    "$p_{j,i} < p_{j,k}$\n",
    "\n",
    "if $i < k$. \n",
    "\n",
    "Before we look for a solution, let's write a function which takes descriptions $p$ and $q$ and checks whether they obey this inequality: "
   ]
  },
  {
   "cell_type": "code",
   "execution_count": 4,
   "metadata": {
    "collapsed": true
   },
   "outputs": [],
   "source": [
    "def assert_paradox_binary_distribution(p, q):\n",
    "    \"\"\"\n",
    "    Asserts whether a distribution described by p,q demonstrates \n",
    "    Simpson's paradox. \n",
    "    \n",
    "    :param p: dictionary, p[x][z] = p(Y=1|X,Z)\n",
    "    :param q: dictionary, q[x][z] = p(Z|X)\n",
    "    :return: None\n",
    "    \"\"\"\n",
    "    n_samples = len(p[0])\n",
    "    for i in range(n_samples):\n",
    "        assert(p[0][i] < p[1][i])\n",
    "            \n",
    "    assert(all(0 < qq < 1 for qq in q[1].values()))\n",
    "    assert(all(0 < qq < 1 for qq in q[0].values()))\n",
    "    \n",
    "    b0 = sum(p[0][i] * q[0][i] for i in range(n_samples))\n",
    "    b1 = sum(p[1][i] * q[1][i] for i in range(n_samples))\n",
    "    \n",
    "    assert(b0 > b1)"
   ]
  },
  {
   "cell_type": "markdown",
   "metadata": {},
   "source": [
    "To generate a solution, note that the terms $\\sum_{i\\in Z} p_{j,i}q_{j,i}$ generate a convex combination of the $p$ values. Given a free choice of $q$, we can make this term lie anywhere between the largest and smallest $p_{j,i}$ value. To meet the second inequality, we require that  \n",
    "\n",
    "$p_{1,0} < p_{0,n}$\n",
    "\n",
    "Where $n$ is the largest value $Z$ can take.\n",
    "\n",
    "We now have the ingredients to a solution. We can put them together in the following way:\n",
    " 1. Choose $p$ values so that $p_{1,i} > p_{0,i}$ for all $i$ and $p_{1,0} < p_{0,n}$\n",
    " 2. Choose two values in the region $(p_{1,0}, p_{0,n})$, $b_{1}$ and $b_{0}$ so that $b_{1}$ < $b_{0}$\n",
    " 3. Find $q$'s so that $\\sum_{i\\in Z} p_{j,i}q_{j,i} = b_{j}$\n",
    " \n",
    "\n",
    "Programmatically, we can carry out the the first step with the following function"
   ]
  },
  {
   "cell_type": "code",
   "execution_count": 5,
   "metadata": {
    "collapsed": true
   },
   "outputs": [],
   "source": [
    "from collections import defaultdict\n",
    "\n",
    "def generate_p_values(n_subgroups):\n",
    "    \"\"\"\n",
    "    Generates a set of conditional probabilities that obey\n",
    "    \n",
    "     - p(Y=1|x=1, z) > p(Y=1|x=0, z) for all z\n",
    "     - p(Y=1|x=1, z=j) > p(Y=1|x=1, k) when j > k\n",
    "     - p(Y=1|x=1, z=0) < p(Y=1|x=0, z=n) where n = max(z)\n",
    "     \n",
    "    :param n_subgroups: int. The number of values $Z$ can take.\n",
    "    :return: dictionary, p[x][z] = p(Y=1|x,z)\n",
    "    \"\"\"\n",
    "    p = defaultdict(dict)\n",
    "\n",
    "    boundaries = np.random.uniform(0, 1, size=2 * n_subgroups)\n",
    "    boundaries = [(n + b) / (2*n_subgroups) for n, b in enumerate(boundaries)]\n",
    "\n",
    "    for i in range(n_subgroups):\n",
    "        p[0][i] = boundaries[i*2]\n",
    "        p[1][i] = boundaries[i*2+1]\n",
    "\n",
    "    return p"
   ]
  },
  {
   "cell_type": "code",
   "execution_count": 5,
   "metadata": {},
   "outputs": [
    {
     "data": {
      "text/plain": [
       "[0.015108299214178384,\n",
       " 0.05526612741465775,\n",
       " 0.13840254544374325,\n",
       " 0.17389726522264964,\n",
       " 0.223119674372376,\n",
       " 0.2921858934026297,\n",
       " 0.3082295925903741,\n",
       " 0.38025290719880606,\n",
       " 0.40436552421090816,\n",
       " 0.4909552681051651,\n",
       " 0.5181707099282983,\n",
       " 0.596874145541186,\n",
       " 0.6422323384899951,\n",
       " 0.672716987849947,\n",
       " 0.7200675225960922,\n",
       " 0.7994155139462874,\n",
       " 0.841030364354064,\n",
       " 0.8909339093703172,\n",
       " 0.9123677149299155,\n",
       " 0.9879987251444584]"
      ]
     },
     "execution_count": 5,
     "metadata": {},
     "output_type": "execute_result"
    }
   ],
   "source": [
    "n_subgroups = 10\n",
    "boundaries = np.random.uniform(0, 1, size=2 * n_subgroups)\n",
    "boundaries = [(n + b) / (2*n_subgroups) for n, b in enumerate(boundaries)]\n",
    "boundaries"
   ]
  },
  {
   "cell_type": "markdown",
   "metadata": {},
   "source": [
    "Which generates a solution to the inequalities by generating a set of ordered random numbers between (0,1) and assigning them to $p_{i,j}$ ordered by ($i$, $j$). The method we use to generate the random numbers ensure they are spread across the whole range.\n",
    "\n",
    "We now need a function which for a given set of $p$'s, and a target values, find the weights which obeys\n",
    "\n",
    "$\\sum_{i} p_{i}q_{i} = target$\n",
    "\n",
    "$\\sum_{i} q_{i} = 1$\n",
    "\n",
    "When there are only two subgroups, this has a single solution. When there are more, there are a range of solutions. We choose one by finding pairs of solutions recursively. The following function does this"
   ]
  },
  {
   "cell_type": "code",
   "execution_count": 6,
   "metadata": {
    "collapsed": true
   },
   "outputs": [],
   "source": [
    "def get_q_weights(ps, target):\n",
    "    \"\"\"\n",
    "    Generates a mixture of the values in ps which is the solution to\n",
    "    \n",
    "    \\sum_{i} p[i]q[i] = target\n",
    "    \n",
    "    :param ps: list of number\n",
    "    :param target: goal of the sum\n",
    "    :return: qs: list of weightings of ps\n",
    "    \"\"\"\n",
    "    if len(ps) <= 1:\n",
    "        raise ValueError(\"ps cannot be shorter than 2\")\n",
    "\n",
    "    if len(ps) == 2:\n",
    "        p0, p1 = ps\n",
    "        q0 = (p1 - target) / (p1 - p0)\n",
    "        return q0, (1 - q0)\n",
    "\n",
    "    rest, last = ps[:-1], ps[-1]\n",
    "    mid_target = np.random.uniform(low=rest[0], high=min(target, rest[-1]))\n",
    "\n",
    "    q0, q1 = get_q_weights([mid_target, last], target)\n",
    "    remaining_qs = get_q_weights(rest, mid_target)\n",
    "    qs = [q0 * q for q in remaining_qs] + [q1]\n",
    "\n",
    "    return qs"
   ]
  },
  {
   "cell_type": "markdown",
   "metadata": {},
   "source": [
    "With these two functions, we can generate the compete distribution and check that it meets our original requirements"
   ]
  },
  {
   "cell_type": "code",
   "execution_count": 7,
   "metadata": {
    "collapsed": true
   },
   "outputs": [],
   "source": [
    "def generate_paradox_binary_distribution(n_subgroups=3):\n",
    "    \"\"\"\n",
    "    Generates a distribution which demonstrates Simpson's paradox \n",
    "    \n",
    "    q[x][z] = p(Z|X)\n",
    "    p[x][z] = p(Y=1|X,Z)\n",
    "    \n",
    "    :param n_subgroups: int\n",
    "    :return: p, q: dicts\n",
    "    \"\"\"\n",
    "\n",
    "    p = generate_p_values(n_subgroups)\n",
    "    \n",
    "    p_low, p_high= p[1][0], p[0][n_subgroups-1]\n",
    "\n",
    "    b1, b0 = np.random.uniform(size=2)\n",
    "    b1, b0 = p_low+((1+b1)/5)*(p_high-p_low), p_low+((3+b0)/5)*(p_high-p_low) \n",
    "    \n",
    "    \n",
    "    q = {}\n",
    "    q[0] = {k: v for k, v in enumerate(get_q_weights(sorted(p[0].values()), b0))}\n",
    "    q[1] = {k: v for k, v in enumerate(get_q_weights(sorted(p[1].values()), b1))}\n",
    "\n",
    "    return p, q\n",
    "\n",
    "p, q = generate_paradox_binary_distribution(4)\n",
    "\n",
    "assert_paradox_binary_distribution(p, q)"
   ]
  },
  {
   "cell_type": "markdown",
   "metadata": {},
   "source": [
    "We have generated a distribution which violates Simpson's paradox. Now let's draw some samples from it. \n",
    "\n",
    "It is worth noting that up until this point we haven't talked about how the $X$ values are distributed. It is because they don't matter for the current discussion. As long as there is some variability in the outcome, we can demonstrate the paradox. However, now that we want to actually generate counts we do need to specify it."
   ]
  },
  {
   "cell_type": "code",
   "execution_count": 8,
   "metadata": {
    "collapsed": true
   },
   "outputs": [],
   "source": [
    "def realise_binary_paradox(p, q, x, n_approx_samples=100):\n",
    "    \"\"\"\n",
    "    Realises the mean outcome from the provided distribution\n",
    "    :param p: dict, p[x][z] = p(Y=1|X,Z)\n",
    "    :param q: dict, q[x][z] = p(Z|X)\n",
    "    :param x: dict, x[i] = p(x)\n",
    "    :param n_approx_samples: int\n",
    "    :return: Dataframe of outcomes\n",
    "    \"\"\"\n",
    "    records = []\n",
    "    for xx in x.keys():\n",
    "        for zz in q[xx].keys():\n",
    "            p_y_eq_0 = x[xx] * q[xx][zz] * (1 - p[xx][zz])\n",
    "            p_y_eq_1 = x[xx] * q[xx][zz] * p[xx][zz]\n",
    "            records.append({\"x\": xx, \"z\": zz, \"y\": 1, \n",
    "                            \"count\": round(n_approx_samples * p_y_eq_1)})\n",
    "            records.append({\"x\": xx, \"z\": zz, \"y\": 0, \n",
    "                            \"count\": round(n_approx_samples * p_y_eq_0)})\n",
    "    return pd.DataFrame.from_records(records)"
   ]
  },
  {
   "cell_type": "markdown",
   "metadata": {},
   "source": [
    "Because this function involves rounding the number of samples to integers, it is possible for some groups to end up with equal ratios, however on average it does produce the required paradox. \n",
    "\n",
    "Let's take a look at the outcome\n",
    "\n",
    "## Example 1.2.4 from Causal Inference in Statistics: A Primer\n",
    "\n",
    "\n",
    "\n",
    "In an attempt to estimate the effectiveness of a new drug, a randomized experiment is conducted. In all, 50% ofthe patients are assigned to receive the new drug and 50% to receive a placebo. A day before the actual experiment, a nurse hands out lollipops to some patients who show signs ofdepression, mostly among those who have been assigned to treatment the next day (i.e., the nurse’s round happened to take her through the treatment-bound ward). Strangely, the experimental data revealed a Simpson’s reversal: Although the drug proved beneficial to the population as a whole, drug takers were less likely to recover than nontakers, among both lollipop receivers and lollipop nonreceivers. Assuming that lollipop sucking in itself has no effect whatsoever on recovery, answer the following questions:\n",
    "\n",
    "<ol class=\"a\">\n",
    "    <li> Is the drug beneficial to the population as a whole or harmful?\n",
    "    <li> Does your answer contradict our gender example, where sex-specific data was deemed more appropriate?\n",
    "    <li> Draw a graph (informally) that more or less captures the story. (Look ahead to Section 1.3 ifyou wish.)\n",
    "    <li> How would you explain the emergence ofSimpson’s reversal in this story?\n",
    "    <li> Would your answer change ifthe lollipops were handed out (by the same criterion) a day after the study?\n",
    "</ol>\n",
    "\n",
    "[Hint: Use the fact that receiving a lollipop indicates a greater likelihood ofbeing assigned to drug treatment, as well as depression, which is a symptom of risk factors that lower the likelihood ofrecovery.]\n",
    "\n"
   ]
  },
  {
   "cell_type": "code",
   "execution_count": 50,
   "metadata": {},
   "outputs": [
    {
     "data": {
      "text/markdown": [
       "$P(recovery | treatment, lollipop)$"
      ],
      "text/plain": [
       "<IPython.core.display.Markdown object>"
      ]
     },
     "metadata": {},
     "output_type": "display_data"
    },
    {
     "data": {
      "text/html": [
       "<div>\n",
       "<style scoped>\n",
       "    .dataframe tbody tr th:only-of-type {\n",
       "        vertical-align: middle;\n",
       "    }\n",
       "\n",
       "    .dataframe tbody tr th {\n",
       "        vertical-align: top;\n",
       "    }\n",
       "\n",
       "    .dataframe thead tr th {\n",
       "        text-align: left;\n",
       "    }\n",
       "</style>\n",
       "<table border=\"1\" class=\"dataframe\">\n",
       "  <thead>\n",
       "    <tr>\n",
       "      <th></th>\n",
       "      <th></th>\n",
       "      <th colspan=\"2\" halign=\"left\">treatment</th>\n",
       "    </tr>\n",
       "    <tr>\n",
       "      <th></th>\n",
       "      <th></th>\n",
       "      <th>0</th>\n",
       "      <th>1</th>\n",
       "    </tr>\n",
       "  </thead>\n",
       "  <tbody>\n",
       "    <tr>\n",
       "      <th rowspan=\"2\" valign=\"top\">lollipop</th>\n",
       "      <th>0</th>\n",
       "      <td>0.156165</td>\n",
       "      <td>0.370270</td>\n",
       "    </tr>\n",
       "    <tr>\n",
       "      <th>1</th>\n",
       "      <td>0.680177</td>\n",
       "      <td>0.869945</td>\n",
       "    </tr>\n",
       "  </tbody>\n",
       "</table>\n",
       "</div>"
      ],
      "text/plain": [
       "           treatment          \n",
       "                   0         1\n",
       "lollipop 0  0.156165  0.370270\n",
       "         1  0.680177  0.869945"
      ]
     },
     "metadata": {},
     "output_type": "display_data"
    },
    {
     "data": {
      "text/markdown": [
       "$P(lollipop | treatment)$"
      ],
      "text/plain": [
       "<IPython.core.display.Markdown object>"
      ]
     },
     "metadata": {},
     "output_type": "display_data"
    },
    {
     "data": {
      "text/html": [
       "<div>\n",
       "<style scoped>\n",
       "    .dataframe tbody tr th:only-of-type {\n",
       "        vertical-align: middle;\n",
       "    }\n",
       "\n",
       "    .dataframe tbody tr th {\n",
       "        vertical-align: top;\n",
       "    }\n",
       "\n",
       "    .dataframe thead tr th {\n",
       "        text-align: left;\n",
       "    }\n",
       "</style>\n",
       "<table border=\"1\" class=\"dataframe\">\n",
       "  <thead>\n",
       "    <tr>\n",
       "      <th></th>\n",
       "      <th></th>\n",
       "      <th colspan=\"2\" halign=\"left\">treatment</th>\n",
       "    </tr>\n",
       "    <tr>\n",
       "      <th></th>\n",
       "      <th></th>\n",
       "      <th>0</th>\n",
       "      <th>1</th>\n",
       "    </tr>\n",
       "  </thead>\n",
       "  <tbody>\n",
       "    <tr>\n",
       "      <th rowspan=\"2\" valign=\"top\">lollipop</th>\n",
       "      <th>0</th>\n",
       "      <td>0.131664</td>\n",
       "      <td>0.843882</td>\n",
       "    </tr>\n",
       "    <tr>\n",
       "      <th>1</th>\n",
       "      <td>0.868336</td>\n",
       "      <td>0.156118</td>\n",
       "    </tr>\n",
       "  </tbody>\n",
       "</table>\n",
       "</div>"
      ],
      "text/plain": [
       "           treatment          \n",
       "                   0         1\n",
       "lollipop 0  0.131664  0.843882\n",
       "         1  0.868336  0.156118"
      ]
     },
     "metadata": {},
     "output_type": "display_data"
    },
    {
     "data": {
      "text/html": [
       "<table ><tr ><th >Received Lollipop</th><th colspan='2'>Took drug and recovered</th><th colspan='2'>Took placebo and recovered</th></tr><tr ><td >0</td><td >5/33</td><td >0.15</td><td ><b >78/211</b></td><td ><b >0.37</b></td></tr><tr ><td >1</td><td >148/217</td><td >0.68</td><td ><b >34/39</b></td><td ><b >0.87</b></td></tr><tr ><td >total:</td><td ><b >153/250</b></td><td ><b >0.61</b></td><td >112/250</td><td >0.45</td></tr></table>"
      ],
      "text/plain": [
       "<IPython.core.display.HTML object>"
      ]
     },
     "execution_count": 50,
     "metadata": {},
     "output_type": "execute_result"
    }
   ],
   "source": [
    "from IPython.display import Latex, Markdown\n",
    "recovery_given_treatment_and_lollipop = '$P(recovery | treatment, lollipop)$'\n",
    "receiving_lollipop_given_treatment = '$P(lollipop | treatment)$'\n",
    "P = {}\n",
    "P[recovery_given_treatment_and_lollipop], P[receiving_lollipop_given_treatment] = generate_paradox_binary_distribution( n_subgroups=2 )\n",
    "\n",
    "drug_vs_placebo_proportions = {0:0.5, 1:0.5}\n",
    "\n",
    "df = realise_binary_paradox(P[recovery_given_treatment_and_lollipop],\n",
    "                            P[receiving_lollipop_given_treatment], \n",
    "                            drug_vs_placebo_proportions, \n",
    "                            n_approx_samples=500)\n",
    "p_xz = pd.DataFrame.from_dict(P[recovery_given_treatment_and_lollipop])\n",
    "p_xz.columns = [['treatment','treatment'], [0,1]]\n",
    "p_xz.index = [['lollipop', 'lollipop'], [0,1]]\n",
    "#Pdf = recovery_given_treatment_and_lollipop\n",
    "q_xz = pd.DataFrame.from_dict(P[receiving_lollipop_given_treatment])\n",
    "q_xz.columns = [['treatment','treatment'], [0,1]]\n",
    "q_xz.index = [['lollipop', 'lollipop'], [0,1]]      \n",
    "display(Markdown('{}'.format(recovery_given_treatment_and_lollipop)))\n",
    "display(p_xz)\n",
    "display(Markdown('{}'.format(receiving_lollipop_given_treatment)))\n",
    "display(q_xz)\n",
    "\n",
    "HTML(u.create_table(df, confounder=\"Received Lollipop\", intervention_level=[\"Took drug and recovered\", \"Took placebo and recovered\"]))"
   ]
  },
  {
   "cell_type": "markdown",
   "metadata": {},
   "source": [
    "## Continuous Example  \n",
    "\n",
    "It is possible to define Simpson's paradox for continuous variables. A simple example would be look at the [Covariance](https://en.wikipedia.org/wiki/Covariance) between two variables, $x$ and $y$, which is one sign for a collection of subgroups, but a different sign for the whole population.\n",
    "\n",
    "If we consider the variables $x$ and $y$ as being drawn from a [mixture distribution](https://en.wikipedia.org/wiki/Mixture_distribution) then by the [law of total covariance](https://en.wikipedia.org/wiki/Law_of_total_covariance), the covariance of the total population is given by two components:\n",
    " - a weighted sum of the subpopulation covariances \n",
    " - the covariance of the subpopulation means\n",
    " \n",
    "If the sign of the covariance for the subpopulations are all in one direction, the first term will be in that direction. If the overall population is going to be the opposite sign, it needs to be compensated by the second term. \n",
    "\n",
    "Using multivariate normal distributions, this is straightforward to simulate:"
   ]
  },
  {
   "cell_type": "code",
   "execution_count": 8,
   "metadata": {
    "collapsed": true
   },
   "outputs": [],
   "source": [
    "def generate_gaussian_simpsons_paradox(n_subgroups=3, n_samples=1000):\n",
    "\n",
    "    overall_cov = 3*np.array([[1,0.9], [0.9,1]])\n",
    "\n",
    "    means = np.random.multivariate_normal(mean=[0,0], cov=overall_cov, size=n_subgroups)\n",
    "    \n",
    "    weights = np.random.uniform(size=n_subgroups)\n",
    "    weights /= np.sum(weights)\n",
    "    covs = [np.random.uniform(0.2,0.8) for _ in range(n_subgroups)]\n",
    "    covs = [np.array([[1,-c], [-c,1]]) for c in covs]\n",
    "\n",
    "\n",
    "    samples = []\n",
    "\n",
    "    for sg, (mean, cov, w) in enumerate(zip(means, covs, weights)):\n",
    "        n = int(round(n_samples * w))\n",
    "        sample = np.random.multivariate_normal(mean=mean, cov=cov, size=n)\n",
    "        sample = pd.DataFrame(sample, columns=[\"x\", \"y\"])\n",
    "        sample[\"z\"] = sg\n",
    "        samples.append(sample)\n",
    "        \n",
    "    df = pd.concat(samples)\n",
    "    \n",
    "    return df"
   ]
  },
  {
   "cell_type": "markdown",
   "metadata": {},
   "source": [
    "Because we are generating the subgroup means and covariances randomly, it is possible to end up with a sample which does not demonstrate the paradox, but on average it will."
   ]
  },
  {
   "cell_type": "code",
   "execution_count": 9,
   "metadata": {},
   "outputs": [
    {
     "name": "stdout",
     "output_type": "stream",
     "text": [
      "Total Covariance: 1.629\n",
      "Subgroup 0 covariance: -0.414\n",
      "Subgroup 1 covariance: -0.633\n",
      "Subgroup 2 covariance: -0.647\n"
     ]
    }
   ],
   "source": [
    "df = generate_gaussian_simpsons_paradox()\n",
    "\n",
    "print(\"Total Covariance: {:.3f}\".format(df[[\"x\", \"y\"]].cov().iloc[0,1]))\n",
    "for z in df.z.unique():\n",
    "    print(\"Subgroup {} covariance: {:.3f}\".format(z,df[df.z==z][[\"x\", \"y\"]].cov().iloc[0,1]))\n"
   ]
  },
  {
   "cell_type": "markdown",
   "metadata": {},
   "source": [
    "This is clearer if we plot what's going on. \n",
    "\n",
    "For the overall population, there is a positive correlation between $x$ and $y$:"
   ]
  },
  {
   "cell_type": "code",
   "execution_count": 10,
   "metadata": {},
   "outputs": [
    {
     "data": {
      "image/png": "[encoded data removed]",
      "text/plain": [
       "<matplotlib.figure.Figure at 0x7f0c1b65be48>"
      ]
     },
     "metadata": {},
     "output_type": "display_data"
    }
   ],
   "source": [
    "sns.regplot(data=df, x=\"x\", y=\"y\");"
   ]
  },
  {
   "cell_type": "markdown",
   "metadata": {},
   "source": [
    "But for each subpopulation, the correlation is negative"
   ]
  },
  {
   "cell_type": "code",
   "execution_count": 11,
   "metadata": {},
   "outputs": [
    {
     "data": {
      "image/png": "[encoded data removed]",
      "text/plain": [
       "<matplotlib.figure.Figure at 0x7f0c1b60f2b0>"
      ]
     },
     "metadata": {},
     "output_type": "display_data"
    }
   ],
   "source": [
    "fig, ax = plt.subplots()\n",
    "\n",
    "plt.xlim(-6,6);\n",
    "plt.ylim(-6,6);\n",
    "\n",
    "for z in df.z.unique():\n",
    "    sns.regplot(data=df[df.z==z], x=\"x\", y=\"y\", ax=ax)"
   ]
  },
  {
   "cell_type": "markdown",
   "metadata": {},
   "source": [
    "# Code\n",
    "\n",
    "You can find the notebook for this post on github [here](https://github.com/ijmbarr/simpsons-paradox)."
   ]
  }
 ],
 "metadata": {
  "kernelspec": {
   "display_name": "causality",
   "language": "python",
   "name": "causality"
  },
  "language_info": {
   "codemirror_mode": {
    "name": "ipython",
    "version": 3
   },
   "file_extension": ".py",
   "mimetype": "text/x-python",
   "name": "python",
   "nbconvert_exporter": "python",
   "pygments_lexer": "ipython3",
   "version": "3.6.6"
  }
 },
 "nbformat": 4,
 "nbformat_minor": 2
}
